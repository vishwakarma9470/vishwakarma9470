{
  "nbformat": 4,
  "nbformat_minor": 0,
  "metadata": {
    "colab": {
      "provenance": [],
      "mount_file_id": "1YbGBZbYmeCnhfGI3AX_-ldioxVaW4lkj",
      "authorship_tag": "ABX9TyPdlanRxi8jDmxonwsDzygb",
      "include_colab_link": true
    },
    "kernelspec": {
      "name": "python3",
      "display_name": "Python 3"
    },
    "language_info": {
      "name": "python"
    }
  },
  "cells": [
    {
      "cell_type": "markdown",
      "metadata": {
        "id": "view-in-github",
        "colab_type": "text"
      },
      "source": [
        "<a href=\"https://colab.research.google.com/github/vishwakarma9470/vishwakarma9470/blob/main/2feb_assignment.ipynb\" target=\"_parent\"><img src=\"https://colab.research.google.com/assets/colab-badge.svg\" alt=\"Open In Colab\"/></a>"
      ]
    },
    {
      "cell_type": "markdown",
      "source": [
        "Q1. Explain with an example each when to use a for loop and a while loop."
      ],
      "metadata": {
        "id": "mnprHwWuLLb-"
      }
    },
    {
      "cell_type": "markdown",
      "source": [
        "Ans - python language supports two types of iterative statements -- while loop and for loop\n",
        "\n",
        "while loop - The while loop provides a mechanism to repeat one or more statements while a particular condition is True. in the while loop, the condition is tested before any of the statements in the statement block is executed. if the condition is True, only then the statements will be executed otherwise if the condition is False, the control will jump to statment y, that is the immediate statement outside the while loop block."
      ],
      "metadata": {
        "id": "itVhlxsLLTtk"
      }
    },
    {
      "cell_type": "code",
      "execution_count": 2,
      "metadata": {
        "colab": {
          "base_uri": "https://localhost:8080/"
        },
        "id": "zgPHZ8guK-dp",
        "outputId": "188525d0-3e18-49a2-98e9-a601e0d2c2a6"
      },
      "outputs": [
        {
          "output_type": "stream",
          "name": "stdout",
          "text": [
            "0 1 2 3 4 5 6 7 8 9 10 "
          ]
        }
      ],
      "source": [
        "i = 0\n",
        "while(i<=10):\n",
        "  print(i,end=' ')\n",
        "  i = i+1"
      ]
    },
    {
      "cell_type": "markdown",
      "source": [
        "for loop -  the for loop is widely used to execute a single or a group of statements a limited number of times. the for loop provides a mechanism to repeat a task untill a particular condition is True. The for loop is usually known as a determinate or definite loop because the programmer knows exactly how many times the loop will repeat."
      ],
      "metadata": {
        "id": "sBvqUCkrLJNk"
      }
    },
    {
      "cell_type": "code",
      "source": [
        "for i in range(0,10):\n",
        "  print(i,end=' ')"
      ],
      "metadata": {
        "colab": {
          "base_uri": "https://localhost:8080/"
        },
        "id": "OHS6PPAhOjDj",
        "outputId": "26f69bdc-d5af-41bf-9c3a-936e8b3bf97a"
      },
      "execution_count": 5,
      "outputs": [
        {
          "output_type": "stream",
          "name": "stdout",
          "text": [
            "0 1 2 3 4 5 6 7 8 9 "
          ]
        }
      ]
    },
    {
      "cell_type": "markdown",
      "source": [
        "Q2. Write a python program to print the sum and product of the first 10 natural numbers using for\n",
        "and while loop."
      ],
      "metadata": {
        "id": "CJvtGqDdQEUK"
      }
    },
    {
      "cell_type": "code",
      "source": [
        "i=0\n",
        "sum = 0\n",
        "for i in range(1,10):\n",
        "  i = i+0\n",
        "  sum = sum + i\n",
        "  print(i,sum)"
      ],
      "metadata": {
        "colab": {
          "base_uri": "https://localhost:8080/"
        },
        "id": "ep8fC8oyO2Iu",
        "outputId": "57bca2ea-f9db-46ef-df6b-e5fe4441797c"
      },
      "execution_count": 7,
      "outputs": [
        {
          "output_type": "stream",
          "name": "stdout",
          "text": [
            "1 1\n",
            "2 3\n",
            "3 6\n",
            "4 10\n",
            "5 15\n",
            "6 21\n",
            "7 28\n",
            "8 36\n",
            "9 45\n"
          ]
        }
      ]
    },
    {
      "cell_type": "code",
      "source": [
        "i = 0\n",
        "sum = 0\n",
        "while(i<=9):\n",
        "  sum = sum + i\n",
        "  i = i + 1\n",
        "  print(i,sum)"
      ],
      "metadata": {
        "colab": {
          "base_uri": "https://localhost:8080/"
        },
        "id": "Vg-gLkbKYOmh",
        "outputId": "4adb4f7c-0eff-4858-938c-c48cb76dccc5"
      },
      "execution_count": 17,
      "outputs": [
        {
          "output_type": "stream",
          "name": "stdout",
          "text": [
            "1 0\n",
            "2 1\n",
            "3 3\n",
            "4 6\n",
            "5 10\n",
            "6 15\n",
            "7 21\n",
            "8 28\n",
            "9 36\n",
            "10 45\n"
          ]
        }
      ]
    },
    {
      "cell_type": "markdown",
      "source": [
        "Q3. Create a python program to compute the electricity bill for a household.\n",
        "The per-unit charges in rupees are as follows: For the first 100 units, the user will be charged Rs. 4.5 per\n",
        "unit, for the next 100 units, the user will be charged Rs. 6 per unit, and for the next 100 units, the user will\n",
        "be charged Rs. 10 per unit, After 300 units and above the user will be charged Rs. 20 per unit.You are required to take the units of electricity consumed in a month from the user as input.\n",
        "Your program must pass this test case: when the unit of electricity consumed by the user in a month is\n",
        "310, the total electricity bill should be 2250."
      ],
      "metadata": {
        "id": "ha7wuQB9adoo"
      }
    },
    {
      "cell_type": "code",
      "source": [
        "def calculate_electricity_bill(units):\n",
        "    if units <= 100:\n",
        "        cost = units * 4.5\n",
        "    elif units <= 200:\n",
        "        cost = 100 * 4.5 + (units - 100) * 6\n",
        "    elif units <= 300:\n",
        "        cost = 100 * 4.5 + 100 * 6 + (units - 200) * 10\n",
        "    else:\n",
        "        cost = 100 * 4.5 + 100 * 6 + 100 * 10 + (units - 300) * 20\n",
        "    return cost\n",
        "\n",
        "try:\n",
        "    units = int(input(\"Enter the units of electricity consumed in a month: \"))\n",
        "\n",
        "    if units < 0:\n",
        "        print(\"Please enter a valid positive number of units.\")\n",
        "    else:\n",
        "        bill = calculate_electricity_bill(units)\n",
        "        print(f\"Electricity bill for {units} units: Rs. {bill:.2f}\")\n",
        "\n",
        "except ValueError:\n",
        "    print(\"Please enter a valid number of units.\")\n"
      ],
      "metadata": {
        "colab": {
          "base_uri": "https://localhost:8080/"
        },
        "id": "1SEk-O6WZNMY",
        "outputId": "e800aa18-38a9-474d-a041-9ebc135ca69c"
      },
      "execution_count": 19,
      "outputs": [
        {
          "output_type": "stream",
          "name": "stdout",
          "text": [
            "Enter the units of electricity consumed in a month: 310\n",
            "Electricity bill for 310 units: Rs. 2250.00\n"
          ]
        }
      ]
    },
    {
      "cell_type": "markdown",
      "source": [
        "Q4. Create a list of numbers from 1 to 100. Use for loop and while loop to calculate the cube of each\n",
        "number and if the cube of that number is divisible by 4 or 5 then append that number in a list and print\n",
        "that list."
      ],
      "metadata": {
        "id": "lyid6sHrb3BJ"
      }
    },
    {
      "cell_type": "code",
      "source": [
        "cubes_divisible_by_4_or_5 = []\n",
        "number = 1\n",
        "\n",
        "while number <= 100:\n",
        "    cube = number ** 3\n",
        "    if cube % 4 == 0 or cube % 5 == 0:\n",
        "        cubes_divisible_by_4_or_5.append(number)\n",
        "    number += 1\n",
        "\n",
        "print(\"Numbers whose cubes are divisible by 4 or 5:\")\n",
        "print(cubes_divisible_by_4_or_5)\n"
      ],
      "metadata": {
        "colab": {
          "base_uri": "https://localhost:8080/"
        },
        "id": "60XGNzW5bwKe",
        "outputId": "dce00462-9c72-4013-aaed-50fd9a37797b"
      },
      "execution_count": 20,
      "outputs": [
        {
          "output_type": "stream",
          "name": "stdout",
          "text": [
            "Numbers whose cubes are divisible by 4 or 5:\n",
            "[2, 4, 5, 6, 8, 10, 12, 14, 15, 16, 18, 20, 22, 24, 25, 26, 28, 30, 32, 34, 35, 36, 38, 40, 42, 44, 45, 46, 48, 50, 52, 54, 55, 56, 58, 60, 62, 64, 65, 66, 68, 70, 72, 74, 75, 76, 78, 80, 82, 84, 85, 86, 88, 90, 92, 94, 95, 96, 98, 100]\n"
          ]
        }
      ]
    },
    {
      "cell_type": "markdown",
      "source": [
        "using for loop\n"
      ],
      "metadata": {
        "id": "4Q1BNSkjb1zM"
      }
    },
    {
      "cell_type": "code",
      "source": [
        "cubes_divisible_by_4_or_5 = []\n",
        "\n",
        "for number in range(1, 101):\n",
        "    cube = number ** 3\n",
        "    if cube % 4 == 0 or cube % 5 == 0:\n",
        "        cubes_divisible_by_4_or_5.append(number)\n",
        "\n",
        "print(\"Numbers whose cubes are divisible by 4 or 5:\")\n",
        "print(cubes_divisible_by_4_or_5)\n"
      ],
      "metadata": {
        "colab": {
          "base_uri": "https://localhost:8080/"
        },
        "id": "fgLUepp1cjJQ",
        "outputId": "ea8f4455-2221-40ed-fb2e-998e1ce7bb71"
      },
      "execution_count": 23,
      "outputs": [
        {
          "output_type": "stream",
          "name": "stdout",
          "text": [
            "Numbers whose cubes are divisible by 4 or 5:\n",
            "[2, 4, 5, 6, 8, 10, 12, 14, 15, 16, 18, 20, 22, 24, 25, 26, 28, 30, 32, 34, 35, 36, 38, 40, 42, 44, 45, 46, 48, 50, 52, 54, 55, 56, 58, 60, 62, 64, 65, 66, 68, 70, 72, 74, 75, 76, 78, 80, 82, 84, 85, 86, 88, 90, 92, 94, 95, 96, 98, 100]\n"
          ]
        }
      ]
    },
    {
      "cell_type": "markdown",
      "source": [
        "Q5. Write a program to filter count vowels in the below-given string.\n",
        "string = \"I want to become a data scientist\""
      ],
      "metadata": {
        "id": "XnB2QP18d0Yd"
      }
    },
    {
      "cell_type": "code",
      "source": [
        "def count_vowels(string):\n",
        "    vowels = \"AEIOUaeiou\"  # Define a string of vowels\n",
        "\n",
        "    # Initialize a counter for vowels\n",
        "    vowel_count = 0\n",
        "\n",
        "    # Iterate through each character in the string\n",
        "    for char in string:\n",
        "        if char in vowels:\n",
        "            vowel_count += 1\n",
        "\n",
        "    return vowel_count\n",
        "\n",
        "# Given string\n",
        "string = \"I want to become a data scientist\"\n",
        "\n",
        "# Call the function to count vowels\n",
        "vowel_count = count_vowels(string)\n",
        "\n",
        "# Print the result\n",
        "print(\"Number of vowels in the string:\", vowel_count)\n"
      ],
      "metadata": {
        "colab": {
          "base_uri": "https://localhost:8080/"
        },
        "id": "x6SLiK57dvaC",
        "outputId": "89622be4-8ef9-457a-e787-b970600e57a8"
      },
      "execution_count": 24,
      "outputs": [
        {
          "output_type": "stream",
          "name": "stdout",
          "text": [
            "Number of vowels in the string: 12\n"
          ]
        }
      ]
    },
    {
      "cell_type": "code",
      "source": [],
      "metadata": {
        "id": "81NSduChd3qH"
      },
      "execution_count": null,
      "outputs": []
    }
  ]
}